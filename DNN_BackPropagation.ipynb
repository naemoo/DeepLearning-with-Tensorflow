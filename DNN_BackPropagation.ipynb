{
 "cells": [
  {
   "cell_type": "markdown",
   "metadata": {},
   "source": [
    "## 수치 미분을 이용한 심층 신경망 학습"
   ]
  },
  {
   "cell_type": "code",
   "execution_count": 2,
   "metadata": {},
   "outputs": [],
   "source": [
    "import time\n",
    "import numpy as np"
   ]
  },
  {
   "cell_type": "markdown",
   "metadata": {},
   "source": [
    "## 유틸리티 함수"
   ]
  },
  {
   "cell_type": "code",
   "execution_count": 3,
   "metadata": {},
   "outputs": [],
   "source": [
    "def _t(x):\n",
    "    return np.transpose(x)\n",
    "\n",
    "def _m(A, B):\n",
    "    return np.matmul(A, B)"
   ]
  },
  {
   "cell_type": "markdown",
   "metadata": {},
   "source": [
    "## Sigmoid 구현\n",
    "#### sigmoid를 객체로 만든 이유 : DP를 사용하기 위함 (많은 중복 연산을 피하기 위해)"
   ]
  },
  {
   "cell_type": "code",
   "execution_count": 4,
   "metadata": {},
   "outputs": [],
   "source": [
    "class Sigmoid:\n",
    "    def __init__(self): # sigmoid(x)를 저장하기 위함\n",
    "        self.last_o = 1\n",
    "\n",
    "    def __call__(self, x):\n",
    "        self.last_o = 1 / (1.0+ np.exp(-x))\n",
    "        return self.last_o\n",
    "\n",
    "    # dh(n) / dh(n-1)\n",
    "    def grad(self): #sigmoid(x) / (1-sigmoid(x))\n",
    "        return self.last_o / (1- self.last_o)"
   ]
  },
  {
   "cell_type": "markdown",
   "metadata": {},
   "source": [
    "## Mean Squared Error 구현"
   ]
  },
  {
   "cell_type": "code",
   "execution_count": 5,
   "metadata": {},
   "outputs": [],
   "source": [
    "class MeanSquaredError:\n",
    "    def __init__(self):\n",
    "        #gradient : chain rule을 위한\n",
    "        self.dh = 1\n",
    "        # backpropagation을 위한\n",
    "        self.last_diff = 1\n",
    "\n",
    "    def __call__(self, h, y): # 1/2 mean((h-y)^2)\n",
    "        self.last_diff = h-y\n",
    "        return 1/2 * np.mean(np.square(h-y))\n",
    "\n",
    "    # dh(n) / dh(n-1)\n",
    "    def grad(self): # (h-y)\n",
    "        return self.last_diff\n"
   ]
  },
  {
   "cell_type": "markdown",
   "metadata": {},
   "source": [
    "## 뉴런 구현"
   ]
  },
  {
   "cell_type": "code",
   "execution_count": 34,
   "metadata": {},
   "outputs": [],
   "source": [
    "class Neuron:\n",
    "    def __init__(self, W, b, a_obj):\n",
    "        self.W = W\n",
    "        self.b = b\n",
    "        self.a = a_obj()\n",
    "        \n",
    "        #graident\n",
    "        self.dW = np.zeros_like(W)\n",
    "        self.db = np.zeros_like(b)\n",
    "        self.dh = np.zeros_like(_t(W)) # h(n)j / h(n-1)i    j,i=0 ~ layer\n",
    "        \n",
    "        # 입력 변수 저장\n",
    "        self.last_x = np.zeros((W.shape[0])) \n",
    "        # 출력 변수 저장\n",
    "        self.last_h = np.zeros((W.shape[1]))\n",
    "\n",
    "    def __call__(self, x):\n",
    "        self.last_x = x\n",
    "        self.last_h = _m(_t(self.W),x)+self.b\n",
    "        return self.a(self.last_h)\n",
    "\n",
    "    # dh(n) / dh(n-1)\n",
    "    def grad(self): #dy/dh = W * da/dh\n",
    "        return self.a.grad()*self.W\n",
    "\n",
    "    # parameter dh : 여태껏 넘어온 gradient\n",
    "    def grad_W(self, dh):\n",
    "        grad = np.ones_like(self.W)\n",
    "        grad_a = self.a.grad()\n",
    "        for j in range(grad.shape[1]):\n",
    "            grad[:, j] = dh[j] * grad_a[j] * self.last_x\n",
    "        return grad\n",
    "    \n",
    "    def grad_b(self, dh): # y = Wx + b  -> dy /dh = 1\n",
    "        return dh * self.a.grad()        "
   ]
  },
  {
   "cell_type": "markdown",
   "metadata": {},
   "source": [
    "## 심층신경망 구현"
   ]
  },
  {
   "cell_type": "code",
   "execution_count": 35,
   "metadata": {},
   "outputs": [],
   "source": [
    "class DNN:\n",
    "    def __init__(self, hidden_depth, num_neuron, input, output, activation=Sigmoid):\n",
    "        def init_var(i, o):\n",
    "            return np.random.normal(0.0, 0.01, (i, o)), np.zeros((o,))\n",
    "\n",
    "        self.sequence = list()\n",
    "        # First hidden layer\n",
    "        W, b = init_var(input, num_neuron)\n",
    "        self.sequence.append(Neuron(W, b, activation))\n",
    "\n",
    "        # Hidden Layers\n",
    "        for index in range(hidden_depth):\n",
    "            W, b = init_var(num_neuron, num_neuron)\n",
    "            self.sequence.append(Neuron(W, b, activation))\n",
    "\n",
    "        # Output Layer\n",
    "        W, b = init_var(num_neuron, output)\n",
    "        self.sequence.append(Neuron(W, b, activation))\n",
    "\n",
    "    def __call__(self, x):\n",
    "        for layer in self.sequence:\n",
    "            x = layer(x)\n",
    "        return x\n",
    "\n",
    "    def calc_gradient(self, loss_obj):\n",
    "        loss_obj.dh = loss_obj.grad()\n",
    "        self.sequence.append(loss_obj)\n",
    "        \n",
    "        #back propagation loop\n",
    "        for i in range(len(self.sequence) - 1,0,-1):\n",
    "            l1 = self.sequence[i]\n",
    "            l0 = self.sequence[i-1]\n",
    "            \n",
    "            l0.dh = _m(l0.grad(),l1.dh)\n",
    "            l0.dW = l0.grad_W(l1.dh)\n",
    "            l0.db = l0.grad_b(l1.dh)\n",
    "        \n",
    "        self.sequence.remove(loss_obj)"
   ]
  },
  {
   "cell_type": "markdown",
   "metadata": {},
   "source": [
    "## 경사하강 학습법"
   ]
  },
  {
   "cell_type": "code",
   "execution_count": 36,
   "metadata": {},
   "outputs": [],
   "source": [
    "def gradient_descent(network, x, y, loss_obj, alpha=0.01):\n",
    "    loss = loss_obj(network(x), y)  # Forward inference\n",
    "    network.calc_gradient(loss_obj)  # Back-propagation\n",
    "    for layer in network.sequence:\n",
    "        layer.W += -alpha * layer.dW\n",
    "        layer.b += -alpha * layer.db\n",
    "    return loss"
   ]
  },
  {
   "cell_type": "markdown",
   "metadata": {},
   "source": [
    "## 동작 테스트"
   ]
  },
  {
   "cell_type": "code",
   "execution_count": 37,
   "metadata": {},
   "outputs": [
    {
     "name": "stdout",
     "output_type": "stream",
     "text": [
      "Epoch 0: Test loss 0.9137901280884936\n",
      "Epoch 1: Test loss 0.8738415675977791\n",
      "Epoch 2: Test loss 0.8417730882285664\n",
      "Epoch 3: Test loss 0.8152304284573466\n",
      "Epoch 4: Test loss 0.792771026810941\n",
      "Epoch 5: Test loss 0.7734432598345216\n",
      "Epoch 6: Test loss 0.756585775672981\n",
      "Epoch 7: Test loss 0.7417205755661107\n",
      "Epoch 8: Test loss 0.728491377958226\n",
      "Epoch 9: Test loss 0.716625914175404\n",
      "Epoch 10: Test loss 0.7059117629397418\n",
      "Epoch 11: Test loss 0.6961802661923765\n",
      "Epoch 12: Test loss 0.6872954831581489\n",
      "Epoch 13: Test loss 0.6791464010257032\n",
      "Epoch 14: Test loss 0.6716413159475775\n",
      "Epoch 15: Test loss 0.6647036988610066\n",
      "Epoch 16: Test loss 0.6582691005802521\n",
      "Epoch 17: Test loss 0.6522827990301241\n",
      "Epoch 18: Test loss 0.6466979859400355\n",
      "Epoch 19: Test loss 0.6414743519453167\n",
      "Epoch 20: Test loss 0.6365769701564511\n",
      "Epoch 21: Test loss 0.6319754062357377\n",
      "Epoch 22: Test loss 0.6276430024046187\n",
      "Epoch 23: Test loss 0.6235562964532844\n",
      "Epoch 24: Test loss 0.6196945465770277\n",
      "Epoch 25: Test loss 0.6160393399277158\n",
      "Epoch 26: Test loss 0.6125742679489152\n",
      "Epoch 27: Test loss 0.6092846554056877\n",
      "Epoch 28: Test loss 0.6061573329006259\n",
      "Epoch 29: Test loss 0.6031804448484976\n",
      "Epoch 30: Test loss 0.6003432865480505\n",
      "Epoch 31: Test loss 0.5976361652735048\n",
      "Epoch 32: Test loss 0.5950502813056235\n",
      "Epoch 33: Test loss 0.5925776256028339\n",
      "Epoch 34: Test loss 0.5902108914281372\n",
      "Epoch 35: Test loss 0.5879433977357018\n",
      "Epoch 36: Test loss 0.585769022510841\n",
      "Epoch 37: Test loss 0.5836821445701416\n",
      "Epoch 38: Test loss 0.5816775925814082\n",
      "Epoch 39: Test loss 0.5797506002684548\n",
      "Epoch 40: Test loss 0.5778967669333824\n",
      "Epoch 41: Test loss 0.5761120225664635\n",
      "Epoch 42: Test loss 0.5743925969270118\n",
      "Epoch 43: Test loss 0.5727349920723479\n",
      "Epoch 44: Test loss 0.571135957889867\n",
      "Epoch 45: Test loss 0.5695924702521971\n",
      "Epoch 46: Test loss 0.5681017114698709\n",
      "Epoch 47: Test loss 0.5666610527616859\n",
      "Epoch 48: Test loss 0.5652680385015287\n",
      "Epoch 49: Test loss 0.5639203720331051\n",
      "Epoch 50: Test loss 0.5626159028717641\n",
      "Epoch 51: Test loss 0.561352615136234\n",
      "Epoch 52: Test loss 0.5601286170732763\n",
      "Epoch 53: Test loss 0.5589421315555685\n",
      "Epoch 54: Test loss 0.5577914874479877\n",
      "Epoch 55: Test loss 0.5566751117502752\n",
      "Epoch 56: Test loss 0.555591522435118\n",
      "Epoch 57: Test loss 0.5545393219102752\n",
      "Epoch 58: Test loss 0.5535171910416722\n",
      "Epoch 59: Test loss 0.5525238836816396\n",
      "Epoch 60: Test loss 0.5515582216527632\n",
      "Epoch 61: Test loss 0.5506190901433374\n",
      "Epoch 62: Test loss 0.5497054334752346\n",
      "Epoch 63: Test loss 0.5488162512092385\n",
      "Epoch 64: Test loss 0.5479505945566212\n",
      "Epoch 65: Test loss 0.547107563069017\n",
      "Epoch 66: Test loss 0.5462863015815463\n",
      "Epoch 67: Test loss 0.5454859973867046\n",
      "Epoch 68: Test loss 0.5447058776187957\n",
      "Epoch 69: Test loss 0.5439452068307082\n",
      "Epoch 70: Test loss 0.5432032847466133\n",
      "Epoch 71: Test loss 0.5424794441757632\n",
      "Epoch 72: Test loss 0.5417730490739837\n",
      "Epoch 73: Test loss 0.5410834927407246\n",
      "Epoch 74: Test loss 0.5404101961406631\n",
      "Epoch 75: Test loss 0.5397526063398744\n",
      "Epoch 76: Test loss 0.5391101950474882\n",
      "Epoch 77: Test loss 0.5384824572545754\n",
      "Epoch 78: Test loss 0.5378689099627365\n",
      "Epoch 79: Test loss 0.5372690909955304\n",
      "Epoch 80: Test loss 0.5366825578864791\n",
      "Epoch 81: Test loss 0.536108886837919\n",
      "Epoch 82: Test loss 0.5355476717454616\n",
      "Epoch 83: Test loss 0.5349985232832607\n",
      "Epoch 84: Test loss 0.534461068045691\n",
      "Epoch 85: Test loss 0.5339349477413959\n",
      "Epoch 86: Test loss 0.5334198184359966\n",
      "Epoch 87: Test loss 0.5329153498400532\n",
      "Epoch 88: Test loss 0.5324212246391371\n",
      "Epoch 89: Test loss 0.5319371378631261\n",
      "Epoch 90: Test loss 0.5314627962920541\n",
      "Epoch 91: Test loss 0.5309979178960568\n",
      "Epoch 92: Test loss 0.5305422313071453\n",
      "Epoch 93: Test loss 0.5300954753207034\n",
      "Epoch 94: Test loss 0.5296573984247716\n",
      "Epoch 95: Test loss 0.5292277583553154\n",
      "Epoch 96: Test loss 0.5288063216758203\n",
      "Epoch 97: Test loss 0.5283928633796604\n",
      "Epoch 98: Test loss 0.5279871665138163\n",
      "Epoch 99: Test loss 0.5275890218226067\n",
      "0.4555234909057617 seconds elapsed.\n"
     ]
    }
   ],
   "source": [
    "x = np.random.normal(0.0, 1.0, (10,))\n",
    "y = np.random.normal(0.0, 1.0, (2,))\n",
    "\n",
    "t = time.time()\n",
    "dnn = DNN(hidden_depth=5, num_neuron=32, input=10, output=2, activation=Sigmoid)\n",
    "loss_obj = MeanSquaredError()\n",
    "for epoch in range(100):\n",
    "    loss = gradient_descent(dnn, x, y, loss_obj, alpha=0.01)\n",
    "    print('Epoch {}: Test loss {}'.format(epoch, loss))\n",
    "print('{} seconds elapsed.'.format(time.time() - t))"
   ]
  },
  {
   "cell_type": "markdown",
   "metadata": {},
   "source": [
    "### DP를 사용한 BackPropagation 방법은 매우 빠르다."
   ]
  }
 ],
 "metadata": {
  "kernelspec": {
   "display_name": "Python 3",
   "language": "python",
   "name": "python3"
  },
  "language_info": {
   "codemirror_mode": {
    "name": "ipython",
    "version": 3
   },
   "file_extension": ".py",
   "mimetype": "text/x-python",
   "name": "python",
   "nbconvert_exporter": "python",
   "pygments_lexer": "ipython3",
   "version": "3.7.6"
  }
 },
 "nbformat": 4,
 "nbformat_minor": 4
}

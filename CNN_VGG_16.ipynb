{
 "cells": [
  {
   "cell_type": "markdown",
   "metadata": {},
   "source": [
    "## 기본 합성곱 신경망 구현\n"
   ]
  },
  {
   "cell_type": "code",
   "execution_count": 1,
   "metadata": {},
   "outputs": [],
   "source": [
    "import tensorflow as tf\n",
    "import numpy as np"
   ]
  },
  {
   "cell_type": "markdown",
   "metadata": {},
   "source": [
    "## 하이퍼 파라미터"
   ]
  },
  {
   "cell_type": "code",
   "execution_count": 2,
   "metadata": {},
   "outputs": [],
   "source": [
    "EPOCHS = 10"
   ]
  },
  {
   "cell_type": "markdown",
   "metadata": {},
   "source": [
    "## 모델 정의 (VGG-16 형태)\n",
    "#### tf.keras.layers.Conv2D(16,(3,3),padding='same',activation='relu') : Convoultion \n",
    "0. 입력 채널 갯수는 API가 저절로 판별\n",
    "1. 16 : 출력 채널 갯수\n",
    "2. (3,3) : Convolution kernel 크기 설정\n",
    "3. padding = 'same' -> 'valid' 시 zero padding 안해줌 (크기가 줄어든다)\n",
    "\n",
    "#### tf.keras.layers.MaxPool2D((2,2)) : Pooling\n",
    "1. 2x2 maxpool 방식 사용"
   ]
  },
  {
   "cell_type": "code",
   "execution_count": 3,
   "metadata": {},
   "outputs": [],
   "source": [
    "class ConvNet(tf.keras.Model):\n",
    "    def __init__(self):\n",
    "        super(ConvNet, self).__init__()\n",
    "        conv2d = tf.keras.layers.Conv2D\n",
    "        maxpool = tf.keras.layers.MaxPool2D\n",
    "        self.sequence = list()\n",
    "        self.sequence.append(conv2d(16, (3, 3), padding='same', activation='relu')) # 28x28x16\n",
    "        self.sequence.append(conv2d(16, (3, 3), padding='same', activation='relu')) # 28x28x16\n",
    "        self.sequence.append(maxpool((2,2))) # 14x14x16\n",
    "        self.sequence.append(conv2d(32, (3, 3), padding='same', activation='relu')) # 14x14x32\n",
    "        self.sequence.append(conv2d(32, (3, 3), padding='same', activation='relu')) # 14x14x32\n",
    "        self.sequence.append(maxpool((2,2))) # 7x7x32\n",
    "        self.sequence.append(conv2d(64, (3, 3), padding='same', activation='relu')) # 7x7x64\n",
    "        self.sequence.append(conv2d(64, (3, 3), padding='same', activation='relu')) # 7x7x64\n",
    "        self.sequence.append(tf.keras.layers.Flatten()) # 7x7x64 = 1568 (벡터화)\n",
    "        self.sequence.append(tf.keras.layers.Dense(128, activation='relu'))\n",
    "        self.sequence.append(tf.keras.layers.Dense(10, activation='softmax'))\n",
    "\n",
    "    def call(self, x, training=False, mask=None):\n",
    "        for layer in self.sequence:\n",
    "            x = layer(x)\n",
    "        return x"
   ]
  },
  {
   "cell_type": "markdown",
   "metadata": {},
   "source": [
    "## 학습, 테스트 루프 정의"
   ]
  },
  {
   "cell_type": "code",
   "execution_count": 4,
   "metadata": {},
   "outputs": [],
   "source": [
    "# Implement training loop\n",
    "@tf.function\n",
    "def train_step(model, images, labels, loss_object, optimizer, train_loss, train_accuracy):\n",
    "    with tf.GradientTape() as tape:\n",
    "        predictions = model(images)\n",
    "        loss = loss_object(labels, predictions)\n",
    "    gradients = tape.gradient(loss, model.trainable_variables)\n",
    "\n",
    "    optimizer.apply_gradients(zip(gradients, model.trainable_variables))\n",
    "    train_loss(loss)\n",
    "    train_accuracy(labels, predictions)\n",
    "\n",
    "# Implement algorithm test\n",
    "@tf.function\n",
    "def test_step(model, images, labels, loss_object, test_loss, test_accuracy):\n",
    "    predictions = model(images)\n",
    "\n",
    "    t_loss = loss_object(labels, predictions)\n",
    "    test_loss(t_loss)\n",
    "    test_accuracy(labels, predictions)"
   ]
  },
  {
   "cell_type": "markdown",
   "metadata": {},
   "source": [
    "## 데이터셋 준비\n",
    "##### numpy[...] 의미 : numpy[:,:,:]\n",
    "1. [..., tf.newaxis] -> 한 차원 증가시키기\n",
    "2. 한차원 증가 시킨 이유 : Convolution Layer 들어갈 시 채널 갯수를 명시하기 위함\n",
    "\n",
    "##### tf.data.Dataset.from_tensor_slices((x_train, y_train)).shuffle(10000).batch(32)\n",
    "1. Dataset.from_tensor_slices : 클레스 메소드로서 np,tf 자료형 데이터 셋 만들 수 있다.\n",
    "2. shuffle : Overfitting을 피하기 위하여 DataSet섞는다. \n",
    "3. batch : 배 트레이닝 -> 배치 데이터 보고 전체 데이터에 적용"
   ]
  },
  {
   "cell_type": "code",
   "execution_count": 5,
   "metadata": {},
   "outputs": [],
   "source": [
    "mnist = tf.keras.datasets.mnist\n",
    "\n",
    "(x_train, y_train), (x_test, y_test) = mnist.load_data()\n",
    "x_train, x_test = x_train / 255.0, x_test / 255.0\n",
    "\n",
    "# x_train : (NUM_SAMPLE, 28, 28) -> (NUM_SAMPLE, 28, 28, 1)\n",
    "x_train = x_train[..., tf.newaxis].astype(np.float32)\n",
    "x_test = x_test[..., tf.newaxis].astype(np.float32)\n",
    "\n",
    "train_ds = tf.data.Dataset.from_tensor_slices((x_train, y_train)).shuffle(10000).batch(32)\n",
    "test_ds = tf.data.Dataset.from_tensor_slices((x_test, y_test)).batch(32)"
   ]
  },
  {
   "cell_type": "markdown",
   "metadata": {},
   "source": [
    "## 학습 환경 정의\n",
    "### 모델 생성, 손실함수, 최적화 알고리즘, 평가지표 정의"
   ]
  },
  {
   "cell_type": "code",
   "execution_count": 6,
   "metadata": {},
   "outputs": [],
   "source": [
    "# Create model\n",
    "model = ConvNet()\n",
    "\n",
    "# Define loss and optimizer\n",
    "loss_object = tf.keras.losses.SparseCategoricalCrossentropy()\n",
    "optimizer = tf.keras.optimizers.Adam()\n",
    "\n",
    "# Define performance metrics\n",
    "train_loss = tf.keras.metrics.Mean(name='train_loss')\n",
    "train_accuracy = tf.keras.metrics.SparseCategoricalAccuracy(name='train_accuracy')\n",
    "\n",
    "test_loss = tf.keras.metrics.Mean(name='test_loss')\n",
    "test_accuracy = tf.keras.metrics.SparseCategoricalAccuracy(name='test_accuracy')"
   ]
  },
  {
   "cell_type": "markdown",
   "metadata": {},
   "source": [
    "## 학습 루프 동작"
   ]
  },
  {
   "cell_type": "code",
   "execution_count": 7,
   "metadata": {},
   "outputs": [
    {
     "name": "stdout",
     "output_type": "stream",
     "text": [
      "Epoch 1, Loss: 0.12333561480045319, Accuracy: 96.15666961669922, Test Loss: 0.04355228319764137, Test Accuracy: 98.68999481201172\n",
      "Epoch 2, Loss: 0.0427783839404583, Accuracy: 98.72999572753906, Test Loss: 0.027533281594514847, Test Accuracy: 99.08999633789062\n",
      "Epoch 3, Loss: 0.03273820877075195, Accuracy: 98.99666595458984, Test Loss: 0.029636705294251442, Test Accuracy: 99.08999633789062\n",
      "Epoch 4, Loss: 0.023212188854813576, Accuracy: 99.25833129882812, Test Loss: 0.04126732051372528, Test Accuracy: 98.97000122070312\n",
      "Epoch 5, Loss: 0.020038031041622162, Accuracy: 99.39500427246094, Test Loss: 0.026049906387925148, Test Accuracy: 99.22999572753906\n",
      "Epoch 6, Loss: 0.017084360122680664, Accuracy: 99.45166778564453, Test Loss: 0.03556510806083679, Test Accuracy: 99.02999877929688\n",
      "Epoch 7, Loss: 0.014365429989993572, Accuracy: 99.56666564941406, Test Loss: 0.040972765535116196, Test Accuracy: 98.94000244140625\n",
      "Epoch 8, Loss: 0.01382648665457964, Accuracy: 99.56999969482422, Test Loss: 0.031124746426939964, Test Accuracy: 99.23999786376953\n",
      "Epoch 9, Loss: 0.011417205445468426, Accuracy: 99.65333557128906, Test Loss: 0.03439522534608841, Test Accuracy: 99.0999984741211\n",
      "Epoch 10, Loss: 0.011866500601172447, Accuracy: 99.6383285522461, Test Loss: 0.032575733959674835, Test Accuracy: 99.30999755859375\n"
     ]
    }
   ],
   "source": [
    "for epoch in range(EPOCHS):\n",
    "    for images, labels in train_ds:\n",
    "        train_step(model, images, labels, loss_object, optimizer, train_loss, train_accuracy)\n",
    "\n",
    "    for test_images, test_labels in test_ds:\n",
    "        test_step(model, test_images, test_labels, loss_object, test_loss, test_accuracy)\n",
    "\n",
    "    template = 'Epoch {}, Loss: {}, Accuracy: {}, Test Loss: {}, Test Accuracy: {}'\n",
    "    print(template.format(epoch + 1,\n",
    "                          train_loss.result(),\n",
    "                          train_accuracy.result() * 100,\n",
    "                          test_loss.result(),\n",
    "                          test_accuracy.result() * 100))\n",
    "    train_loss.reset_states()\n",
    "    train_accuracy.reset_states()\n",
    "    test_loss.reset_states()\n",
    "    test_accuracy.reset_states()"
   ]
  }
 ],
 "metadata": {
  "kernelspec": {
   "display_name": "Python 3",
   "language": "python",
   "name": "python3"
  },
  "language_info": {
   "codemirror_mode": {
    "name": "ipython",
    "version": 3
   },
   "file_extension": ".py",
   "mimetype": "text/x-python",
   "name": "python",
   "nbconvert_exporter": "python",
   "pygments_lexer": "ipython3",
   "version": "3.7.6"
  }
 },
 "nbformat": 4,
 "nbformat_minor": 4
}
